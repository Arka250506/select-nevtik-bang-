{
 "cells": [
  {
   "cell_type": "code",
   "execution_count": 5,
   "id": "bd0e609f",
   "metadata": {},
   "outputs": [],
   "source": [
    "#mengimport modul cv2,numpy,and sys(pilihan)\n",
    "import cv2\n",
    "import sys \n",
    "import numpy as np"
   ]
  },
  {
   "cell_type": "code",
   "execution_count": 6,
   "id": "f355ec3f",
   "metadata": {},
   "outputs": [],
   "source": [
    "#memasukan rumus deteksi wajah,hidung,mulut, dengan algoritma haarcascades\n",
    "deteksi_wajah = cv2.CascadeClassifier(cv2.data.haarcascades + 'haarcascade_frontalface_default.xml')\n",
    "deteksi_mata = cv2.CascadeClassifier(cv2.data.haarcascades + 'haarcascade_eye.xml')\n",
    "deteksi_mulut = cv2.CascadeClassifier(cv2.data.haarcascades + 'haarcascade_mcs_mouth.xml')"
   ]
  },
  {
   "cell_type": "code",
   "execution_count": 7,
   "id": "1eb55bb2",
   "metadata": {},
   "outputs": [],
   "source": [
    "#mengambil gambar dengan camera.\n",
    "#(masukan paramater 0 untuk camera laptop default dan 1 jika memiliki lebih dari 1 kamera)\n",
    "#begitupun seterus nya\n",
    "gambar = cv2.VideoCapture(0)"
   ]
  },
  {
   "cell_type": "code",
   "execution_count": 8,
   "id": "5dd96155",
   "metadata": {},
   "outputs": [],
   "source": [
    "#membuat perulangan (while)\n",
    "while True :\n",
    "    #ret = untuk mengembalikan\n",
    "    #frame = membuat fariabel baru dengan nama frame \n",
    "    #gambar.read()= untuk membaca nbyte\n",
    "    ret, frame =gambar.read()\n",
    "    #mengubah warna menjadi gray(abu-abu)\n",
    "    gray = cv2.cvtColor(frame,cv2.COLOR_BGR2GRAY)\n",
    "    #untuk mendeteksi wajah dengan banyak skala \n",
    "    faces = deteksi_wajah.detectMultiScale(gray)\n",
    "    #menentukan font \n",
    "    font = cv2.FONT_HERSHEY_SIMPLEX\n",
    "    #untukmengubah variable face menjadi satuan (x,y,w(weight),h(height))\n",
    "    for(x,y,w,h) in faces:\n",
    "        #untuk membuatkotak pendeteksi wajah\n",
    "        cv2.rectangle(frame,(x,y),(x+w,y+h),(0,255,0),2)\n",
    "        #untuk menuliskan bahwa ini wajah di dalam kotakpendeteksi wajah \n",
    "        cv2.putText(frame,'wajah',(x,y),cv2.FONT_HERSHEY_SIMPLEX,1,(255,255,255),2)\n",
    "      \n",
    "        #mengambil region gambar dengan skala rgb dan abu-abu\n",
    "        roi_gray = gray[y:y+h,x:x+w]\n",
    "        roi_color = frame[y:y+h,x:x+w]\n",
    "        #untuk mendeteksi mata dengan banyak skala \n",
    "        eyes = deteksi_mata.detectMultiScale(roi_gray)\n",
    "        #untuk mengubah variable eyes menjadi bentuk (ex,ey,ew(weight),eh(height))\n",
    "        for(ex,ey,ew,eh) in eyes:\n",
    "            #untuk membuatkotak pendeteksi mata\n",
    "            cv2.rectangle(roi_color,(ex,ey),(ex+ew,ey+eh),(255,0,0),2)\n",
    "            #untuk menuliskan bahwa ini mata di dalam kotak pendeteksi mata\n",
    "            cv2.putText(roi_color,'mata',(ex,ey),cv2.FONT_HERSHEY_SIMPLEX,1,(255,255,255),2)\n",
    "        #untuk mendeteksi mulut dengan banyak skala    \n",
    "        mouth=deteksi_mulut.detectMultiScale(roi_gray)\n",
    "        #untuk mengubah variable mouth menjadi bentuk (nx,ny,nw(weight),nh(height))\n",
    "        for(nx,ny,nw,nh) in mouth:\n",
    "            #untuk membuatkotak pendeteksi mulut\n",
    "            cv2.rectangle(roi_color,(nx,ny),(nx+nw,ny+nh),(0,0,255),2)\n",
    "            #untuk menuliskan bahwa ini mulut di dalam kotak pendeteksi mulut\n",
    "            cv2.putText(roi_color,'mulut',(nx,ny),cv2.FONT_HERSHEY_SIMPLEX,1,(255,255,255),2)\n",
    "    #menampilan viedeo kamera \n",
    "    #dengan nama window 'si ganteng'\n",
    "    cv2.imshow('si_ganteng', frame )\n",
    "    #untuk mematikan video kamera pencet keyword('q')\n",
    "    if cv2.waitKey(1) & 0xFF == ord('q'):\n",
    "        break\n",
    "\n",
    "#untuk mengembalikan/melepaskan kamera \n",
    "#menutup semua jendela\n",
    "gambar.release()\n",
    "cv2.destroyAllWindows()"
   ]
  },
  {
   "cell_type": "code",
   "execution_count": null,
   "id": "b366f7a3",
   "metadata": {},
   "outputs": [],
   "source": [
    "#maaf kak saya ga pindah2 cell, karena pas saya pindah2 cell malah bingung di while nya"
   ]
  }
 ],
 "metadata": {
  "kernelspec": {
   "display_name": "Python 3",
   "language": "python",
   "name": "python3"
  },
  "language_info": {
   "codemirror_mode": {
    "name": "ipython",
    "version": 3
   },
   "file_extension": ".py",
   "mimetype": "text/x-python",
   "name": "python",
   "nbconvert_exporter": "python",
   "pygments_lexer": "ipython3",
   "version": "3.8.8"
  }
 },
 "nbformat": 4,
 "nbformat_minor": 5
}
