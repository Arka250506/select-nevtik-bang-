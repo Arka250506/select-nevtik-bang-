{
 "cells": [
  {
   "cell_type": "code",
   "execution_count": 1,
   "id": "bd0e609f",
   "metadata": {},
   "outputs": [],
   "source": [
    "import cv2\n",
    "import sys \n",
    "import numpy as np"
   ]
  },
  {
   "cell_type": "code",
   "execution_count": 2,
   "id": "f355ec3f",
   "metadata": {},
   "outputs": [],
   "source": [
    "deteksi_wajah = cv2.CascadeClassifier(cv2.data.haarcascades + 'haarcascade_frontalface_default.xml')\n",
    "deteksi_mata = cv2.CascadeClassifier(cv2.data.haarcascades + 'haarcascade_eye.xml')\n",
    "deteksi_mulut = cv2.CascadeClassifier(cv2.data.haarcascades + 'haarcascade_mouth.xml')#mcs"
   ]
  },
  {
   "cell_type": "code",
   "execution_count": 3,
   "id": "1eb55bb2",
   "metadata": {},
   "outputs": [],
   "source": [
    "gambar = cv2.VideoCapture(0)"
   ]
  },
  {
   "cell_type": "code",
   "execution_count": 4,
   "id": "5dd96155",
   "metadata": {},
   "outputs": [],
   "source": [
    "while True :\n",
    "    \n",
    "    ret, frame =gambar.read()\n",
    "\n",
    "    gray = cv2.cvtColor(frame,cv2.COLOR_BGR2GRAY)\n",
    "\n",
    "    faces = deteksi_wajah.detectMultiScale(gray)\n",
    "    \n",
    "    for(x,y,w,h) in faces:\n",
    "        cv2.rectangle(frame,(x,y),(x+w,y+h),(0,255,0),2)\n",
    "        roi_gray = gray[y:y+h,x:x+w]\n",
    "        roi_color = frame[y:y+h,x:x+w]\n",
    "        \n",
    "        eyes = deteksi_mata.detectMultiScale(roi_gray)\n",
    "        for(ex,ey,ew,eh) in eyes:\n",
    "            cv2.rectangle(roi_color,(ex,ey),(ex+ew,ey+eh),(255,0,0),2)\n",
    "            \n",
    "        mouth=deteksi_wajah.detectMultiScale(roi_color)\n",
    "        for(nx,ny,nw,nh) in mouth:\n",
    "            cv2.rectangle(roi_color,(nx,ny),(nx+nw,ny+nh),(0,0,255),2) \n",
    "    \n",
    "    cv2.imshow('hi_ganteng', frame )\n",
    "\n",
    "    if cv2.waitKey(1) & 0xFF == ord('q'):\n",
    "        break\n",
    "\n",
    "    \n",
    "gambar.release()\n",
    "cv2.destroyAllWindows()"
   ]
  },
  {
   "cell_type": "code",
   "execution_count": null,
   "id": "b366f7a3",
   "metadata": {},
   "outputs": [],
   "source": []
  },
  {
   "cell_type": "code",
   "execution_count": null,
   "id": "5101ea94",
   "metadata": {},
   "outputs": [],
   "source": []
  },
  {
   "cell_type": "code",
   "execution_count": null,
   "id": "f5f6e8fc",
   "metadata": {},
   "outputs": [],
   "source": []
  },
  {
   "cell_type": "code",
   "execution_count": null,
   "id": "a0d45da2",
   "metadata": {},
   "outputs": [],
   "source": []
  },
  {
   "cell_type": "code",
   "execution_count": null,
   "id": "0d166551",
   "metadata": {},
   "outputs": [],
   "source": []
  }
 ],
 "metadata": {
  "kernelspec": {
   "display_name": "Python 3",
   "language": "python",
   "name": "python3"
  },
  "language_info": {
   "codemirror_mode": {
    "name": "ipython",
    "version": 3
   },
   "file_extension": ".py",
   "mimetype": "text/x-python",
   "name": "python",
   "nbconvert_exporter": "python",
   "pygments_lexer": "ipython3",
   "version": "3.8.8"
  }
 },
 "nbformat": 4,
 "nbformat_minor": 5
}
